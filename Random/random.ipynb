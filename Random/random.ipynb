{
 "cells": [
  {
   "cell_type": "code",
   "execution_count": 5,
   "id": "d2845665",
   "metadata": {},
   "outputs": [],
   "source": [
    "from random import *\n",
    "from time import *\n",
    "date1 = (2016,1,1,0,0,0,-1,-1,-1)\n",
    "time1 = mktime(date1)\n",
    "date2 = (2017,1,1,0,0,0,-1,-1,-1)\n",
    "time2 = mktime(date2)"
   ]
  },
  {
   "cell_type": "code",
   "execution_count": 6,
   "id": "b1636694",
   "metadata": {},
   "outputs": [],
   "source": [
    "random_time = uniform(time1, time2)"
   ]
  },
  {
   "cell_type": "code",
   "execution_count": 9,
   "id": "fe06eed5",
   "metadata": {},
   "outputs": [
    {
     "data": {
      "text/plain": [
       "1452071673.7996938"
      ]
     },
     "execution_count": 9,
     "metadata": {},
     "output_type": "execute_result"
    }
   ],
   "source": [
    "random_time"
   ]
  },
  {
   "cell_type": "code",
   "execution_count": 19,
   "id": "1e097735",
   "metadata": {},
   "outputs": [
    {
     "data": {
      "text/plain": [
       "'Wed Jan  6 16:14:33 2016'"
      ]
     },
     "execution_count": 19,
     "metadata": {},
     "output_type": "execute_result"
    }
   ],
   "source": [
    "asctime(localtime(random_time))"
   ]
  },
  {
   "cell_type": "code",
   "execution_count": 12,
   "id": "6b954f47",
   "metadata": {},
   "outputs": [
    {
     "data": {
      "text/plain": [
       "time.struct_time(tm_year=2016, tm_mon=1, tm_mday=6, tm_hour=16, tm_min=14, tm_sec=33, tm_wday=2, tm_yday=6, tm_isdst=0)"
      ]
     },
     "execution_count": 12,
     "metadata": {},
     "output_type": "execute_result"
    }
   ],
   "source": [
    "localtime(random_time)"
   ]
  },
  {
   "cell_type": "code",
   "execution_count": 18,
   "id": "9686f2f1",
   "metadata": {},
   "outputs": [
    {
     "data": {
      "text/plain": [
       "'Wed Jan  6 09:14:33 2016'"
      ]
     },
     "execution_count": 18,
     "metadata": {},
     "output_type": "execute_result"
    }
   ],
   "source": [
    "asctime(gmtime(random_time))"
   ]
  },
  {
   "cell_type": "code",
   "execution_count": 20,
   "id": "0dd81809",
   "metadata": {},
   "outputs": [
    {
     "name": "stdout",
     "output_type": "stream",
     "text": [
      "How many dice? 4\n",
      "How many sides per die? 2\n",
      "The result is  5\n"
     ]
    }
   ],
   "source": [
    "num = int(input('How many dice? '))\n",
    "sides = int(input('How many sides per die? '))\n",
    "sum = 0\n",
    "for i in range(num):\n",
    "    sum+= randrange(sides)+1\n",
    "print('The result is ', sum)"
   ]
  },
  {
   "cell_type": "code",
   "execution_count": 21,
   "id": "e3659378",
   "metadata": {},
   "outputs": [
    {
     "ename": "FileNotFoundError",
     "evalue": "[Errno 2] No such file or directory: '-f'",
     "output_type": "error",
     "traceback": [
      "\u001b[1;31m---------------------------------------------------------------------------\u001b[0m",
      "\u001b[1;31mFileNotFoundError\u001b[0m                         Traceback (most recent call last)",
      "\u001b[1;32m<ipython-input-21-d7d86e190cd3>\u001b[0m in \u001b[0;36m<module>\u001b[1;34m\u001b[0m\n\u001b[0;32m      1\u001b[0m \u001b[1;32mimport\u001b[0m \u001b[0mfileinput\u001b[0m\u001b[1;33m,\u001b[0m \u001b[0mrandom\u001b[0m\u001b[1;33m\u001b[0m\u001b[1;33m\u001b[0m\u001b[0m\n\u001b[1;32m----> 2\u001b[1;33m \u001b[0mfortunes\u001b[0m \u001b[1;33m=\u001b[0m \u001b[0mlist\u001b[0m\u001b[1;33m(\u001b[0m\u001b[0mfileinput\u001b[0m\u001b[1;33m.\u001b[0m\u001b[0minput\u001b[0m\u001b[1;33m(\u001b[0m\u001b[1;33m)\u001b[0m\u001b[1;33m)\u001b[0m\u001b[1;33m\u001b[0m\u001b[1;33m\u001b[0m\u001b[0m\n\u001b[0m\u001b[0;32m      3\u001b[0m \u001b[0mprint\u001b[0m\u001b[1;33m(\u001b[0m\u001b[0mrandom\u001b[0m\u001b[1;33m.\u001b[0m\u001b[0mchoice\u001b[0m\u001b[1;33m(\u001b[0m\u001b[0mfortunes\u001b[0m\u001b[1;33m)\u001b[0m\u001b[1;33m)\u001b[0m\u001b[1;33m\u001b[0m\u001b[1;33m\u001b[0m\u001b[0m\n",
      "\u001b[1;32m~\\Anaconda3\\lib\\fileinput.py\u001b[0m in \u001b[0;36m__next__\u001b[1;34m(self)\u001b[0m\n\u001b[0;32m    246\u001b[0m     \u001b[1;32mdef\u001b[0m \u001b[0m__next__\u001b[0m\u001b[1;33m(\u001b[0m\u001b[0mself\u001b[0m\u001b[1;33m)\u001b[0m\u001b[1;33m:\u001b[0m\u001b[1;33m\u001b[0m\u001b[1;33m\u001b[0m\u001b[0m\n\u001b[0;32m    247\u001b[0m         \u001b[1;32mwhile\u001b[0m \u001b[1;32mTrue\u001b[0m\u001b[1;33m:\u001b[0m\u001b[1;33m\u001b[0m\u001b[1;33m\u001b[0m\u001b[0m\n\u001b[1;32m--> 248\u001b[1;33m             \u001b[0mline\u001b[0m \u001b[1;33m=\u001b[0m \u001b[0mself\u001b[0m\u001b[1;33m.\u001b[0m\u001b[0m_readline\u001b[0m\u001b[1;33m(\u001b[0m\u001b[1;33m)\u001b[0m\u001b[1;33m\u001b[0m\u001b[1;33m\u001b[0m\u001b[0m\n\u001b[0m\u001b[0;32m    249\u001b[0m             \u001b[1;32mif\u001b[0m \u001b[0mline\u001b[0m\u001b[1;33m:\u001b[0m\u001b[1;33m\u001b[0m\u001b[1;33m\u001b[0m\u001b[0m\n\u001b[0;32m    250\u001b[0m                 \u001b[0mself\u001b[0m\u001b[1;33m.\u001b[0m\u001b[0m_filelineno\u001b[0m \u001b[1;33m+=\u001b[0m \u001b[1;36m1\u001b[0m\u001b[1;33m\u001b[0m\u001b[1;33m\u001b[0m\u001b[0m\n",
      "\u001b[1;32m~\\Anaconda3\\lib\\fileinput.py\u001b[0m in \u001b[0;36m_readline\u001b[1;34m(self)\u001b[0m\n\u001b[0;32m    364\u001b[0m                     \u001b[0mself\u001b[0m\u001b[1;33m.\u001b[0m\u001b[0m_file\u001b[0m \u001b[1;33m=\u001b[0m \u001b[0mself\u001b[0m\u001b[1;33m.\u001b[0m\u001b[0m_openhook\u001b[0m\u001b[1;33m(\u001b[0m\u001b[0mself\u001b[0m\u001b[1;33m.\u001b[0m\u001b[0m_filename\u001b[0m\u001b[1;33m,\u001b[0m \u001b[0mself\u001b[0m\u001b[1;33m.\u001b[0m\u001b[0m_mode\u001b[0m\u001b[1;33m)\u001b[0m\u001b[1;33m\u001b[0m\u001b[1;33m\u001b[0m\u001b[0m\n\u001b[0;32m    365\u001b[0m                 \u001b[1;32melse\u001b[0m\u001b[1;33m:\u001b[0m\u001b[1;33m\u001b[0m\u001b[1;33m\u001b[0m\u001b[0m\n\u001b[1;32m--> 366\u001b[1;33m                     \u001b[0mself\u001b[0m\u001b[1;33m.\u001b[0m\u001b[0m_file\u001b[0m \u001b[1;33m=\u001b[0m \u001b[0mopen\u001b[0m\u001b[1;33m(\u001b[0m\u001b[0mself\u001b[0m\u001b[1;33m.\u001b[0m\u001b[0m_filename\u001b[0m\u001b[1;33m,\u001b[0m \u001b[0mself\u001b[0m\u001b[1;33m.\u001b[0m\u001b[0m_mode\u001b[0m\u001b[1;33m)\u001b[0m\u001b[1;33m\u001b[0m\u001b[1;33m\u001b[0m\u001b[0m\n\u001b[0m\u001b[0;32m    367\u001b[0m         \u001b[0mself\u001b[0m\u001b[1;33m.\u001b[0m\u001b[0m_readline\u001b[0m \u001b[1;33m=\u001b[0m \u001b[0mself\u001b[0m\u001b[1;33m.\u001b[0m\u001b[0m_file\u001b[0m\u001b[1;33m.\u001b[0m\u001b[0mreadline\u001b[0m  \u001b[1;31m# hide FileInput._readline\u001b[0m\u001b[1;33m\u001b[0m\u001b[1;33m\u001b[0m\u001b[0m\n\u001b[0;32m    368\u001b[0m         \u001b[1;32mreturn\u001b[0m \u001b[0mself\u001b[0m\u001b[1;33m.\u001b[0m\u001b[0m_readline\u001b[0m\u001b[1;33m(\u001b[0m\u001b[1;33m)\u001b[0m\u001b[1;33m\u001b[0m\u001b[1;33m\u001b[0m\u001b[0m\n",
      "\u001b[1;31mFileNotFoundError\u001b[0m: [Errno 2] No such file or directory: '-f'"
     ]
    }
   ],
   "source": [
    "import fileinput, random\n",
    "fortunes = list(fileinput.input())\n",
    "print(random.choice(fortunes))"
   ]
  },
  {
   "cell_type": "code",
   "execution_count": 22,
   "id": "9ba17661",
   "metadata": {},
   "outputs": [],
   "source": [
    "values = list(range(1, 11)) + 'Jack Queen King'.split()\n",
    "suits = 'diamonds clubs hearts spades'.split()\n",
    "deck = [f'{v} of {s}' for v in values for s in suits]"
   ]
  },
  {
   "cell_type": "code",
   "execution_count": 23,
   "id": "1ddc82b7",
   "metadata": {},
   "outputs": [
    {
     "name": "stdout",
     "output_type": "stream",
     "text": [
      "['1 of diamonds',\n",
      " '1 of clubs',\n",
      " '1 of hearts',\n",
      " '1 of spades',\n",
      " '2 of diamonds',\n",
      " '2 of clubs',\n",
      " '2 of hearts',\n",
      " '2 of spades',\n",
      " '3 of diamonds',\n",
      " '3 of clubs',\n",
      " '3 of hearts',\n",
      " '3 of spades']\n"
     ]
    }
   ],
   "source": [
    "from pprint import pprint\n",
    "pprint(deck[:12])"
   ]
  },
  {
   "cell_type": "code",
   "execution_count": 28,
   "id": "8b2c6bb5",
   "metadata": {},
   "outputs": [
    {
     "data": {
      "text/plain": [
       "['1 of diamonds',\n",
       " '1 of clubs',\n",
       " '1 of hearts',\n",
       " '1 of spades',\n",
       " '2 of diamonds',\n",
       " '2 of clubs',\n",
       " '2 of hearts',\n",
       " '2 of spades',\n",
       " '3 of diamonds',\n",
       " '3 of clubs',\n",
       " '3 of hearts',\n",
       " '3 of spades',\n",
       " '4 of diamonds',\n",
       " '4 of clubs',\n",
       " '4 of hearts',\n",
       " '4 of spades',\n",
       " '5 of diamonds',\n",
       " '5 of clubs',\n",
       " '5 of hearts',\n",
       " '5 of spades',\n",
       " '6 of diamonds',\n",
       " '6 of clubs',\n",
       " '6 of hearts',\n",
       " '6 of spades',\n",
       " '7 of diamonds',\n",
       " '7 of clubs',\n",
       " '7 of hearts',\n",
       " '7 of spades',\n",
       " '8 of diamonds',\n",
       " '8 of clubs',\n",
       " '8 of hearts',\n",
       " '8 of spades',\n",
       " '9 of diamonds',\n",
       " '9 of clubs',\n",
       " '9 of hearts',\n",
       " '9 of spades',\n",
       " '10 of diamonds',\n",
       " '10 of clubs',\n",
       " '10 of hearts',\n",
       " '10 of spades',\n",
       " 'Jack of diamonds',\n",
       " 'Jack of clubs',\n",
       " 'Jack of hearts',\n",
       " 'Jack of spades',\n",
       " 'Queen of diamonds',\n",
       " 'Queen of clubs',\n",
       " 'Queen of hearts',\n",
       " 'Queen of spades',\n",
       " 'King of diamonds',\n",
       " 'King of clubs',\n",
       " 'King of hearts',\n",
       " 'King of spades']"
      ]
     },
     "execution_count": 28,
     "metadata": {},
     "output_type": "execute_result"
    }
   ],
   "source": [
    "deck"
   ]
  },
  {
   "cell_type": "code",
   "execution_count": 26,
   "id": "2c88e9e2",
   "metadata": {},
   "outputs": [
    {
     "data": {
      "text/plain": [
       "[1, 2, 3, 4, 5, 6, 7, 8, 9, 10, 'Jack', 'Queen', 'King']"
      ]
     },
     "execution_count": 26,
     "metadata": {},
     "output_type": "execute_result"
    }
   ],
   "source": [
    "values"
   ]
  },
  {
   "cell_type": "code",
   "execution_count": 27,
   "id": "58b97918",
   "metadata": {},
   "outputs": [
    {
     "data": {
      "text/plain": [
       "['diamonds', 'clubs', 'hearts', 'spades']"
      ]
     },
     "execution_count": 27,
     "metadata": {},
     "output_type": "execute_result"
    }
   ],
   "source": [
    "suits"
   ]
  },
  {
   "cell_type": "code",
   "execution_count": 29,
   "id": "caf77fe0",
   "metadata": {},
   "outputs": [],
   "source": [
    "shuffle(deck)"
   ]
  },
  {
   "cell_type": "code",
   "execution_count": 30,
   "id": "4ab7f76f",
   "metadata": {},
   "outputs": [
    {
     "data": {
      "text/plain": [
       "['7 of clubs',\n",
       " 'King of clubs',\n",
       " '3 of hearts',\n",
       " 'King of spades',\n",
       " '1 of spades',\n",
       " '10 of clubs',\n",
       " '1 of hearts',\n",
       " '6 of clubs',\n",
       " '7 of hearts',\n",
       " '2 of diamonds',\n",
       " '5 of diamonds',\n",
       " '9 of hearts',\n",
       " '8 of diamonds',\n",
       " '5 of spades']"
      ]
     },
     "execution_count": 30,
     "metadata": {},
     "output_type": "execute_result"
    }
   ],
   "source": [
    "deck[:14]"
   ]
  },
  {
   "cell_type": "code",
   "execution_count": 31,
   "id": "3da5ddb4",
   "metadata": {},
   "outputs": [
    {
     "data": {
      "text/plain": [
       "['7 of clubs',\n",
       " 'King of clubs',\n",
       " '3 of hearts',\n",
       " 'King of spades',\n",
       " '1 of spades',\n",
       " '10 of clubs',\n",
       " '1 of hearts',\n",
       " '6 of clubs',\n",
       " '7 of hearts',\n",
       " '2 of diamonds',\n",
       " '5 of diamonds',\n",
       " '9 of hearts',\n",
       " '8 of diamonds',\n",
       " '5 of spades',\n",
       " 'Queen of clubs',\n",
       " 'Jack of spades',\n",
       " '10 of hearts',\n",
       " '8 of clubs',\n",
       " '3 of diamonds',\n",
       " '10 of spades',\n",
       " 'Queen of spades',\n",
       " '8 of hearts',\n",
       " '8 of spades',\n",
       " '4 of clubs',\n",
       " '4 of hearts',\n",
       " '4 of spades',\n",
       " '6 of hearts',\n",
       " '6 of spades',\n",
       " '7 of diamonds',\n",
       " 'Jack of hearts',\n",
       " '6 of diamonds',\n",
       " '5 of hearts',\n",
       " 'Jack of clubs',\n",
       " '5 of clubs',\n",
       " '2 of spades',\n",
       " 'Queen of diamonds',\n",
       " '9 of diamonds',\n",
       " '10 of diamonds',\n",
       " '2 of hearts',\n",
       " '3 of clubs',\n",
       " '9 of clubs',\n",
       " 'Queen of hearts',\n",
       " '1 of diamonds',\n",
       " '3 of spades',\n",
       " 'King of diamonds',\n",
       " '1 of clubs',\n",
       " 'King of hearts',\n",
       " '7 of spades',\n",
       " '9 of spades',\n",
       " '2 of clubs',\n",
       " 'Jack of diamonds',\n",
       " '4 of diamonds']"
      ]
     },
     "execution_count": 31,
     "metadata": {},
     "output_type": "execute_result"
    }
   ],
   "source": [
    "deck"
   ]
  },
  {
   "cell_type": "code",
   "execution_count": null,
   "id": "5403d4ab",
   "metadata": {},
   "outputs": [],
   "source": []
  }
 ],
 "metadata": {
  "kernelspec": {
   "display_name": "Python 3 (ipykernel)",
   "language": "python",
   "name": "python3"
  },
  "language_info": {
   "codemirror_mode": {
    "name": "ipython",
    "version": 3
   },
   "file_extension": ".py",
   "mimetype": "text/x-python",
   "name": "python",
   "nbconvert_exporter": "python",
   "pygments_lexer": "ipython3",
   "version": "3.10.4"
  }
 },
 "nbformat": 4,
 "nbformat_minor": 5
}
